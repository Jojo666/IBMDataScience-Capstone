{
 "cells": [
  {
   "cell_type": "markdown",
   "metadata": {},
   "source": [
    "# Applied Data Science - Final Capstone - Week 4\n",
    "This is the capstone for applied data science course on Coursera. I will work on Chinatown Study in the USA."
   ]
  },
  {
   "cell_type": "markdown",
   "metadata": {},
   "source": [
    "## 1. Description of the problem and a discussion of the background"
   ]
  },
  {
   "cell_type": "markdown",
   "metadata": {},
   "source": [
    "Chinatowns are cities within cities: adventurous, bustling, full of distinctive signage, street vendors selling unusual items, specialty shops, a noted lack of big chains, a variety of dialects being spoken, and multitudes of unique and exciting food choices.\n",
    "\n",
    "The Chinese have been established in the United States since the mid-19th century, when laborers were needed for gold mining and railroad work, but the immigrant population also grew during the 1990s and 2000s; in fact, more than one-third of the Chinese immigrants now living in the U.S. arrived in 2000 or later. Currently, there are more than 3 million Chinese in America, according to the 2008 census report. Whether leaving China for issues ranging from poverty, famine or political reasons, across the decades, the Chinese have built strong communities that keep their ethnic heritage and shared identity; this maintained and rich culture is a defining reason that Chinatowns endure and why they're so appealing for residents and tourists alike.\n",
    "\n",
    "Around the globe, there are Chinatowns in many major cities, from London (Europe's largest) to Vancouver (Canada's largest), Melbourne to Manila; and fortunately for us, there are many within the United States.Many of these districts share their community with other immigrant cultures, making the sights, sounds and eating choices that much more exotic. In a neighborhood where English is not the primary language, a visitor can feel as though they've left the U.S. altogether — and now they are the foreigner, a tourist in their own city. \n",
    "\n",
    "**So what exactly makes a Chinatown great?**\n",
    "\n",
    "In order to compile my capstone, I will took a look at Top10 in America, and analysis the quality of authentic dining options, size, cultural experiences available, and whether a visitor will feel like they've left the United States as they explore the neighborhood."
   ]
  },
  {
   "cell_type": "markdown",
   "metadata": {},
   "source": [
    "## 2. Description of the data and how it will be used to solve the problem"
   ]
  },
  {
   "cell_type": "markdown",
   "metadata": {},
   "source": [
    "### 2.1 Get the City List\n",
    "I use a list from USA today for my research items. They offer us a top10 list for Chinatowns in the United States. I will exploare the all the Top 10 Chinatowns and compare them from all the aspects.\n",
    "\n",
    "> - San Francisco\n",
    "> - New York City\n",
    "> - Chicago\n",
    "> - Seattle\n",
    "> - Philadelphia\n",
    "> - Honolulu\n",
    "> - Boston\n",
    "> - Los Angeles\n",
    "> - Houston\n",
    "> - Washington, D.C.\n",
    " \n",
    "List Scoure from here: https://www.usatoday.com/story/travel/destinations/2014/03/08/chinatown-chinese-asian-food/6173601/\n",
    "\n"
   ]
  },
  {
   "cell_type": "markdown",
   "metadata": {},
   "source": [
    "### 2.2 Get the City ChinaTown Geo Data\n",
    "I will use the Geocoder Python package to get the latitude and longitude values data of ChinaTown in each city.\n",
    "Data from: https://geocoder.readthedocs.io/index.html."
   ]
  },
  {
   "cell_type": "markdown",
   "metadata": {},
   "source": [
    "### 2.3 Explore the neighborhoods using Foursquare API\n",
    "Lastly, I will utilize the Foursquare API to explore the ChinaTown neighborhoods and analysis them. I will get the top 1000 venues that are in ChinaTown within a radius of 1000 or 2000 meters. \n",
    "\n",
    "The following analysis will be performed by using the data we get:\n",
    "- Analysis the quality of authentic dining options, size, cultural experiences\n",
    "- Analysis the venues between Restaurant and other catalogs.\n",
    "- Find the most similar ChinaTowns among those ten cities.\n"
   ]
  }
 ],
 "metadata": {
  "kernelspec": {
   "display_name": "Python 3",
   "language": "python",
   "name": "python3"
  },
  "language_info": {
   "codemirror_mode": {
    "name": "ipython",
    "version": 3
   },
   "file_extension": ".py",
   "mimetype": "text/x-python",
   "name": "python",
   "nbconvert_exporter": "python",
   "pygments_lexer": "ipython3",
   "version": "3.7.4"
  }
 },
 "nbformat": 4,
 "nbformat_minor": 2
}
