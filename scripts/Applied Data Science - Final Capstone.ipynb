{
 "cells": [
  {
   "cell_type": "markdown",
   "metadata": {},
   "source": [
    "# Applied Data Science - Final Capstone - Week 4\n",
    "This is the capstone for applied data science course on Coursera. I will work on Chinatown Study in the USA."
   ]
  },
  {
   "cell_type": "markdown",
   "metadata": {},
   "source": [
    "## 1. Description of the problem and a discussion of the background"
   ]
  },
  {
   "cell_type": "markdown",
   "metadata": {},
   "source": [
    "Chinatowns are cities within cities: adventurous, bustling, full of distinctive signage, street vendors selling unusual items, specialty shops, a noted lack of big chains, a variety of dialects being spoken, and multitudes of unique and exciting food choices.\n",
    "\n",
    "The Chinese have been established in the United States since the mid-19th century, when laborers were needed for gold mining and railroad work, but the immigrant population also grew during the 1990s and 2000s; in fact, more than one-third of the Chinese immigrants now living in the U.S. arrived in 2000 or later. Currently, there are more than 3 million Chinese in America, according to the 2008 census report. Whether leaving China for issues ranging from poverty, famine or political reasons, across the decades, the Chinese have built strong communities that keep their ethnic heritage and shared identity; this maintained and rich culture is a defining reason that Chinatowns endure and why they're so appealing for residents and tourists alike.\n",
    "\n",
    "Around the globe, there are Chinatowns in many major cities, from London (Europe's largest) to Vancouver (Canada's largest), Melbourne to Manila; and fortunately for us, there are many within the United States.Many of these districts share their community with other immigrant cultures, making the sights, sounds and eating choices that much more exotic. In a neighborhood where English is not the primary language, a visitor can feel as though they've left the U.S. altogether — and now they are the foreigner, a tourist in their own city. \n",
    "\n",
    "**So what exactly makes a Chinatown great?**\n",
    "\n",
    "In order to compile my capstone, I will took a look at Top10 in America, and analysis the quality of authentic dining options, size, cultural experiences available, and whether a visitor will feel like they've left the United States as they explore the neighborhood."
   ]
  },
  {
   "cell_type": "markdown",
   "metadata": {},
   "source": [
    "## 2. Description of the data and how it will be used to solve the problem"
   ]
  },
  {
   "cell_type": "markdown",
   "metadata": {},
   "source": [
    "### 2.1 Get the City List\n",
    "I use a list from USA today for my research items. They offer us a top10 list for Chinatowns in the United States. I will exploare the all the Top 10 Chinatowns and compare them from all the aspects.\n",
    "\n",
    "> - San Francisco\n",
    "> - New York City\n",
    "> - Chicago\n",
    "> - Seattle\n",
    "> - Philadelphia\n",
    "> - Honolulu\n",
    "> - Boston\n",
    "> - Los Angeles\n",
    "> - Houston\n",
    "> - Washington, D.C.\n",
    " \n",
    "List Scoure from here: https://www.usatoday.com/story/travel/destinations/2014/03/08/chinatown-chinese-asian-food/6173601/\n",
    "\n"
   ]
  },
  {
   "cell_type": "markdown",
   "metadata": {},
   "source": [
    "### 2.2 Get the City ChinaTown Geo Data\n",
    "I will use the Geocoder Python package to get the latitude and longitude values data of ChinaTown in each city.\n",
    "Data from: https://geocoder.readthedocs.io/index.html.\n",
    "#### Example of getting GeoData from Geocoder"
   ]
  },
  {
   "cell_type": "code",
   "execution_count": 1,
   "metadata": {},
   "outputs": [
    {
     "output_type": "stream",
     "name": "stdout",
     "text": [
      "The geograpical coordinate of Chinatown in New York City are 40.7164913, -73.9962504.\n"
     ]
    }
   ],
   "source": [
    "from geopy.geocoders import Nominatim # convert an address into latitude and longitude values\n",
    "address = 'Chinatown, New York, NY'\n",
    "geolocator = Nominatim(user_agent = \"ChinaTown_explorer\")\n",
    "location = geolocator.geocode(address)\n",
    "latitude = location.latitude\n",
    "longitude = location.longitude\n",
    "print('The geograpical coordinate of Chinatown in New York City are {}, {}.'.format(latitude, longitude))"
   ]
  },
  {
   "cell_type": "markdown",
   "metadata": {},
   "source": [
    "### 2.3 Explore the neighborhoods using Foursquare API\n",
    "Lastly, I will utilize the Foursquare API to explore the ChinaTown neighborhoods and analysis them. I will get the top 1000 venues that are in ChinaTown within a radius of 1000 or 2000 meters. \n",
    "\n",
    "The following analysis will be performed by using the data we get:\n",
    "- Analysis the quality of authentic dining options, size, cultural experiences\n",
    "- Analysis the venues between Restaurant and other catalogs.\n",
    "- Find the most similar ChinaTowns among those ten cities.\n",
    "\n",
    "#### Example of getting the data from Foursquare API\n",
    "Getting ChinaTown data in New York City."
   ]
  },
  {
   "cell_type": "code",
   "execution_count": 12,
   "metadata": {
    "tags": []
   },
   "outputs": [
    {
     "output_type": "execute_result",
     "data": {
      "text/plain": [
       "         Neighborhood  Neighborhood Latitude  Neighborhood Longitude  \\\n",
       "0  New York Chinatown              40.716491               -73.99625   \n",
       "1  New York Chinatown              40.716491               -73.99625   \n",
       "2  New York Chinatown              40.716491               -73.99625   \n",
       "3  New York Chinatown              40.716491               -73.99625   \n",
       "4  New York Chinatown              40.716491               -73.99625   \n",
       "5  New York Chinatown              40.716491               -73.99625   \n",
       "6  New York Chinatown              40.716491               -73.99625   \n",
       "7  New York Chinatown              40.716491               -73.99625   \n",
       "8  New York Chinatown              40.716491               -73.99625   \n",
       "9  New York Chinatown              40.716491               -73.99625   \n",
       "\n",
       "               Venue  Venue Latitude  Venue Longitude       Venue Category  \n",
       "0        Zu Yuan Spa       40.715469       -73.998627                  Spa  \n",
       "1              Wayla       40.718291       -73.992584      Thai Restaurant  \n",
       "2    Hair Toto Group       40.718629       -73.999593   Salon / Barbershop  \n",
       "3          The Tyger       40.718835       -73.999480     Asian Restaurant  \n",
       "4  Cheeky Sandwiches       40.715821       -73.991830       Sandwich Place  \n",
       "5             Kiki's       40.714476       -73.992036     Greek Restaurant  \n",
       "6      Scarr's Pizza       40.715335       -73.991649          Pizza Place  \n",
       "7             Simple       40.718145       -73.991988     Asian Restaurant  \n",
       "8    Michaeli Bakery       40.714704       -73.991847               Bakery  \n",
       "9         Metrograph       40.714999       -73.991035  Indie Movie Theater  "
      ],
      "text/html": "<div>\n<style scoped>\n    .dataframe tbody tr th:only-of-type {\n        vertical-align: middle;\n    }\n\n    .dataframe tbody tr th {\n        vertical-align: top;\n    }\n\n    .dataframe thead th {\n        text-align: right;\n    }\n</style>\n<table border=\"1\" class=\"dataframe\">\n  <thead>\n    <tr style=\"text-align: right;\">\n      <th></th>\n      <th>Neighborhood</th>\n      <th>Neighborhood Latitude</th>\n      <th>Neighborhood Longitude</th>\n      <th>Venue</th>\n      <th>Venue Latitude</th>\n      <th>Venue Longitude</th>\n      <th>Venue Category</th>\n    </tr>\n  </thead>\n  <tbody>\n    <tr>\n      <td>0</td>\n      <td>New York Chinatown</td>\n      <td>40.716491</td>\n      <td>-73.99625</td>\n      <td>Zu Yuan Spa</td>\n      <td>40.715469</td>\n      <td>-73.998627</td>\n      <td>Spa</td>\n    </tr>\n    <tr>\n      <td>1</td>\n      <td>New York Chinatown</td>\n      <td>40.716491</td>\n      <td>-73.99625</td>\n      <td>Wayla</td>\n      <td>40.718291</td>\n      <td>-73.992584</td>\n      <td>Thai Restaurant</td>\n    </tr>\n    <tr>\n      <td>2</td>\n      <td>New York Chinatown</td>\n      <td>40.716491</td>\n      <td>-73.99625</td>\n      <td>Hair Toto Group</td>\n      <td>40.718629</td>\n      <td>-73.999593</td>\n      <td>Salon / Barbershop</td>\n    </tr>\n    <tr>\n      <td>3</td>\n      <td>New York Chinatown</td>\n      <td>40.716491</td>\n      <td>-73.99625</td>\n      <td>The Tyger</td>\n      <td>40.718835</td>\n      <td>-73.999480</td>\n      <td>Asian Restaurant</td>\n    </tr>\n    <tr>\n      <td>4</td>\n      <td>New York Chinatown</td>\n      <td>40.716491</td>\n      <td>-73.99625</td>\n      <td>Cheeky Sandwiches</td>\n      <td>40.715821</td>\n      <td>-73.991830</td>\n      <td>Sandwich Place</td>\n    </tr>\n    <tr>\n      <td>5</td>\n      <td>New York Chinatown</td>\n      <td>40.716491</td>\n      <td>-73.99625</td>\n      <td>Kiki's</td>\n      <td>40.714476</td>\n      <td>-73.992036</td>\n      <td>Greek Restaurant</td>\n    </tr>\n    <tr>\n      <td>6</td>\n      <td>New York Chinatown</td>\n      <td>40.716491</td>\n      <td>-73.99625</td>\n      <td>Scarr's Pizza</td>\n      <td>40.715335</td>\n      <td>-73.991649</td>\n      <td>Pizza Place</td>\n    </tr>\n    <tr>\n      <td>7</td>\n      <td>New York Chinatown</td>\n      <td>40.716491</td>\n      <td>-73.99625</td>\n      <td>Simple</td>\n      <td>40.718145</td>\n      <td>-73.991988</td>\n      <td>Asian Restaurant</td>\n    </tr>\n    <tr>\n      <td>8</td>\n      <td>New York Chinatown</td>\n      <td>40.716491</td>\n      <td>-73.99625</td>\n      <td>Michaeli Bakery</td>\n      <td>40.714704</td>\n      <td>-73.991847</td>\n      <td>Bakery</td>\n    </tr>\n    <tr>\n      <td>9</td>\n      <td>New York Chinatown</td>\n      <td>40.716491</td>\n      <td>-73.99625</td>\n      <td>Metrograph</td>\n      <td>40.714999</td>\n      <td>-73.991035</td>\n      <td>Indie Movie Theater</td>\n    </tr>\n  </tbody>\n</table>\n</div>"
     },
     "metadata": {},
     "execution_count": 12
    }
   ],
   "source": [
    "import requests # library to handle requests\n",
    "import pandas as pd\n",
    "CLIENT_ID = '***************' # your Foursquare ID\n",
    "CLIENT_SECRET = '*****************' # your Foursquare Secret\n",
    "VERSION = '20210417' # Foursquare API version\n",
    "LIMIT = 100 # A default Foursquare API limit value\n",
    "radius = 2000\n",
    "url = 'https://api.foursquare.com/v2/venues/explore?&client_id={}&client_secret={}&v={}&ll={},{}&radius={}&limit={}'.format(\n",
    "    CLIENT_ID, CLIENT_SECRET, VERSION, latitude, longitude, radius, LIMIT)\n",
    "results = requests.get(url).json()[\"response\"]['groups'][0]['items']\n",
    "venues_list=[]\n",
    "venues_list.append([('New York Chinatown', latitude, longitude, v['venue']['name'], v['venue']['location']['lat'], v['venue']['location']['lng'],v['venue']['categories'][0]['name']) for v in results])\n",
    "nearby_venues = pd.DataFrame([item for venue_list in venues_list for item in venue_list])\n",
    "nearby_venues.columns = ['Neighborhood', 'Neighborhood Latitude', 'Neighborhood Longitude', 'Venue',  'Venue Latitude', 'Venue Longitude','Venue Category']\n",
    "nearby_venues.head(10)\n"
   ]
  }
 ],
 "metadata": {
  "kernelspec": {
   "name": "python374jvsc74a57bd007efdcd4b820c98a756949507a4d29d7862823915ec7477944641bea022f4f62",
   "display_name": "Python 3.7.4 64-bit (conda)"
  },
  "language_info": {
   "codemirror_mode": {
    "name": "ipython",
    "version": 3
   },
   "file_extension": ".py",
   "mimetype": "text/x-python",
   "name": "python",
   "nbconvert_exporter": "python",
   "pygments_lexer": "ipython3",
   "version": "3.7.4-final"
  }
 },
 "nbformat": 4,
 "nbformat_minor": 2
}